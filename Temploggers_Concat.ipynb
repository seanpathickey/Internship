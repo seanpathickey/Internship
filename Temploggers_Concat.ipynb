{
 "cells": [
  {
   "cell_type": "code",
   "execution_count": 3,
   "metadata": {},
   "outputs": [
    {
     "name": "stdout",
     "output_type": "stream",
     "text": [
      "finished\n"
     ]
    }
   ],
   "source": [
    "import pandas as pd\n",
    "import numpy as np\n",
    "import glob\n",
    "\n",
    "#Converts all excel files into CSV files in the directory \n",
    "# excel_files = glob.glob(r'C:\\Users\\sph0088\\OneDrive - UNT System\\MORA\\Analysis\\templogger\\*.xlsx') # assume the path\n",
    "for excel in excel_files:\n",
    "    out = excel.split('.')[0]+'.csv' #Splits the filename where there is a '.'\n",
    "    df = pd.read_excel(excel) # if only the first sheet is needed.\n",
    "    df.to_csv(out, index=False) \n",
    "print('finished')"
   ]
  },
  {
   "cell_type": "code",
   "execution_count": 18,
   "metadata": {},
   "outputs": [],
   "source": [
    "import pandas as pd\n",
    "import numpy as np\n",
    "\n",
    "#Concatenate all templog files together\n",
    "\n",
    "df1_1 = pd.read_csv(r'C:\\Users\\sph0088\\OneDrive - UNT System\\MORA\\Analysis\\templogger\\1_20690150_1_1st.csv')\n",
    "df1_2 = pd.read_csv(r'C:\\Users\\sph0088\\OneDrive - UNT System\\MORA\\Analysis\\templogger\\1_10561785_2_2nd.csv')\n",
    "df1_3 = pd.read_csv(r'C:\\Users\\sph0088\\OneDrive - UNT System\\MORA\\Analysis\\templogger\\1_10561785_3_2nd.csv')\n",
    "\n",
    "dfsite1 = pd.concat([df1_1, df1_2,df1_3], ignore_index=True) #Ignore index = True reassigns index to rows according to their new position in the df\n",
    "dfsite1.to_csv(r'C:\\Users\\sph0088\\OneDrive - UNT System\\MORA\\Analysis\\templogger\\site1_temps.csv',index=False)\n"
   ]
  },
  {
   "cell_type": "code",
   "execution_count": 19,
   "metadata": {},
   "outputs": [],
   "source": [
    "#Concatenate all templog files together\n",
    "\n",
    "df2_1 = pd.read_csv(r'C:\\Users\\sph0088\\OneDrive - UNT System\\MORA\\Analysis\\templogger\\2_20690155_1_1st.csv')\n",
    "df2_2 = pd.read_csv(r'C:\\Users\\sph0088\\OneDrive - UNT System\\MORA\\Analysis\\templogger\\2_20204899_2_2nd.csv')\n",
    "df2_3 = pd.read_csv(r'C:\\Users\\sph0088\\OneDrive - UNT System\\MORA\\Analysis\\templogger\\2_20204899_3_2nd.csv')\n",
    "\n",
    "dfsite2 = pd.concat([df2_1, df2_2, df2_3], ignore_index=True) #Ignore index = True reassigns index to rows according to their new position in the df\n",
    "dfsite2.to_csv(r'C:\\Users\\sph0088\\OneDrive - UNT System\\MORA\\Analysis\\templogger\\site2_temps.csv',index=False)"
   ]
  },
  {
   "cell_type": "code",
   "execution_count": 20,
   "metadata": {},
   "outputs": [],
   "source": [
    "#Concatenate all templog files together\n",
    "\n",
    "df3_1 = pd.read_csv(r'C:\\Users\\sph0088\\OneDrive - UNT System\\MORA\\Analysis\\templogger\\3_10206451_1.csv')\n",
    "df3_2 = pd.read_csv(r'C:\\Users\\sph0088\\OneDrive - UNT System\\MORA\\Analysis\\templogger\\3_10206451remv1342repl20690150_2.csv')\n",
    "# df3 = pd.read_csv(r'C:\\Users\\sph0088\\OneDrive - UNT System\\MORA\\Analysis\\templogger\\2_20204899_3_2nd.csv')\n",
    "\n",
    "dfsite3 = pd.concat([df3_1, df3_2], ignore_index=True) #Ignore index = True reassigns index to rows according to their new position in the df\n",
    "dfsite3.to_csv(r'C:\\Users\\sph0088\\OneDrive - UNT System\\MORA\\Analysis\\templogger\\site3_temps.csv',index=False)"
   ]
  },
  {
   "cell_type": "code",
   "execution_count": 21,
   "metadata": {},
   "outputs": [],
   "source": [
    "#Concatenate all templog files together\n",
    "\n",
    "df4_1 = pd.read_csv(r'C:\\Users\\sph0088\\OneDrive - UNT System\\MORA\\Analysis\\templogger\\4_10794939_1.csv')\n",
    "df4_2 = pd.read_csv(r'C:\\Users\\sph0088\\OneDrive - UNT System\\MORA\\Analysis\\templogger\\4_10794939_2.csv')\n",
    "# df3 = pd.read_csv(r'C:\\Users\\sph0088\\OneDrive - UNT System\\MORA\\Analysis\\templogger\\2_20204899_3_2nd.csv')\n",
    "\n",
    "dfsite4 = pd.concat([df4_1, df4_2], ignore_index=True) #Ignore index = True reassigns index to rows according to their new position in the df\n",
    "dfsite4.to_csv(r'C:\\Users\\sph0088\\OneDrive - UNT System\\MORA\\Analysis\\templogger\\site4_temps.csv',index=False)"
   ]
  },
  {
   "cell_type": "code",
   "execution_count": null,
   "metadata": {},
   "outputs": [],
   "source": [
    "\n"
   ]
  }
 ],
 "metadata": {
  "kernelspec": {
   "display_name": "Python 3",
   "language": "python",
   "name": "python3"
  },
  "language_info": {
   "codemirror_mode": {
    "name": "ipython",
    "version": 3
   },
   "file_extension": ".py",
   "mimetype": "text/x-python",
   "name": "python",
   "nbconvert_exporter": "python",
   "pygments_lexer": "ipython3",
   "version": "3.7.6"
  }
 },
 "nbformat": 4,
 "nbformat_minor": 4
}
