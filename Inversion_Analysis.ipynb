{
 "cells": [
  {
   "cell_type": "code",
   "execution_count": 9,
   "metadata": {},
   "outputs": [],
   "source": [
    "import pandas as pd\n",
    "import numpy as np\n",
    "import matplotlib.pyplot as plt\n",
    "import matplotlib.dates as mdates\n",
    "import datetime as dt\n",
    "\n",
    "##################### Import data and change to datetime ########################################\n",
    "\n",
    "site1 = pd.read_csv(r'C:\\Users\\sph0088\\OneDrive - UNT System\\MORA\\Analysis\\templogger\\site1_temps.csv').dropna()\n",
    "site2 = pd.read_csv(r'C:\\Users\\sph0088\\OneDrive - UNT System\\MORA\\Analysis\\templogger\\site2_temps.csv').dropna()\n",
    "site3 = pd.read_csv(r'C:\\Users\\sph0088\\OneDrive - UNT System\\MORA\\Analysis\\templogger\\site3_temps.csv').dropna()\n",
    "site4 = pd.read_csv(r'C:\\Users\\sph0088\\OneDrive - UNT System\\MORA\\Analysis\\templogger\\site4_temps.csv').dropna()\n",
    "\n",
    "site1['date'] = pd.to_datetime(site1['date'], format='%Y/%m/%d %H:%M')\n",
    "site2['date'] = pd.to_datetime(site2['date'], format='%m/%d/%Y %H:%M')\n",
    "site3['date'] = pd.to_datetime(site3['date'], format='%Y/%m/%d %H:%M')\n",
    "site4['date'] = pd.to_datetime(site4['date'], format='%Y/%m/%d %H:%M')\n",
    "\n",
    "\n",
    "site1['date'] = site1['date'].dt.floor('H') #Drops off the minutes and seconds of the time\n",
    "site1 = pd.DataFrame(site1.groupby(['date'],as_index=False).mean())\n",
    "site1.columns = ['date','temp_F_site1']\n",
    "\n",
    "site2['date'] = site2['date'].dt.floor('H') #Drops off the minutes and seconds of the time\n",
    "site2 = pd.DataFrame(site2.groupby(['date'],as_index=False).mean())\n",
    "site2.columns = ['date','temp_F_site2']\n",
    "\n",
    "\n",
    "site3['date'] = site3['date'].dt.floor('H') #Drops off the minutes and seconds of the time\n",
    "site3 = pd.DataFrame(site3.groupby(['date'],as_index=False).mean())\n",
    "site3.columns = ['date','temp_F_site3']\n",
    "\n",
    "site4['date'] = site4['date'].dt.floor('H') #Drops off the minutes and seconds of the time\n",
    "site4 = pd.DataFrame(site4.groupby(['date'],as_index=False).mean())\n",
    "site4.columns = ['date','temp_F_site4']\n",
    "\n",
    "df = site1.merge(site2, on='date', how='outer')\n",
    "df = df.merge(site3, on='date', how='outer')\n",
    "df = df.merge(site4, on='date', how='outer')\n",
    "# df.to_csv(r'C:\\Users\\sph0088\\OneDrive - UNT System\\MORA\\Analysis\\templogger\\merged.csv',index=False)"
   ]
  },
  {
   "cell_type": "code",
   "execution_count": 77,
   "metadata": {},
   "outputs": [],
   "source": [
    "df = pd.read_csv(r'C:\\Users\\sph0088\\OneDrive - UNT System\\MORA\\Analysis\\templogger\\temploggers_allsites.csv')\n",
    "df = df[['date','temp_F_site1','temp_F_site4']]\n",
    "df['date'] =  pd.to_datetime(df['date'], format='%m/%d/%Y %H:%M')\n",
    "#Creates a new column with only hour\n",
    "df['hour'] = pd.DatetimeIndex(df['date']).hour\n",
    "\n",
    "\n",
    "df = df[(df['hour']>=16)&(df['hour']<=22)] \n",
    "df = df.dropna()\n",
    "df['temp_diff']= df['temp_F_site4'] - df['temp_F_site1']\n",
    "df = df[['date','hour','temp_F_site1','temp_F_site4','temp_diff']]\n",
    "\n",
    "df['date'] = df['date'].dt.floor('d')\n",
    "df = pd.DataFrame(df.groupby(['date'], as_index=False).mean())\n",
    "\n",
    "df.loc[df['temp_diff'] >= 0, 'inversion'] = 1\n",
    "df.loc[df['temp_diff'] < 0, 'inversion'] = 0\n",
    "df.head()\n"
   ]
  },
  {
   "cell_type": "code",
   "execution_count": 78,
   "metadata": {},
   "outputs": [],
   "source": [
    "import seaborn as sns\n",
    "import matplotlib.pyplot as plt\n",
    "\n",
    "pm25 = pd.read_csv(r'C:\\Users\\sph0088\\OneDrive - UNT System\\MORA\\Analysis\\ohana_nightly_alldata_2009-2020_9pm-1am.csv')\n",
    "pm25 = pm25[['date','pm25']]\n",
    "pm25['date'] = pd.to_datetime(pm25['date'],format='%m/%d/%Y')\n",
    "df = df.merge(pm25,on='date')\n",
    "df.head()\n",
    "df.to_csv(r'C:\\Users\\sph0088\\OneDrive - UNT System\\MORA\\Analysis\\Inversion\\inversion_data.csv',index=False)"
   ]
  },
  {
   "cell_type": "code",
   "execution_count": 74,
   "metadata": {},
   "outputs": [
    {
     "data": {
      "image/png": "[encoded data removed]",
      "text/plain": [
       "<Figure size 360x576 with 1 Axes>"
      ]
     },
     "metadata": {
      "needs_background": "light"
     },
     "output_type": "display_data"
    }
   ],
   "source": [
    "start_date = '2020/07/04'\n",
    "end_date = '2020/08/04'\n",
    "\n",
    "df = df[(df['date'] >= start_date) & (df['date'] <= end_date)]\n",
    "df\n",
    "\n",
    "inversion = df['inversion'].map({0: 'No inversion', 1: 'Inversion'})\n",
    "plt.figure(figsize=(5,8))\n",
    "my_pal = {\"Inversion\": \"purple\", \"No inversion\": \"yellow\"}\n",
    "ax = sns.boxplot(x=inversion, y=df[\"pm25\"],order=['No inversion','Inversion'], linewidth=2.5, palette=my_pal)\n",
    "ax.tick_params(axis='x', which='major', labelsize=14) #Default selection is major\n",
    "ax.tick_params(axis='y', which='major', labelsize=12) #axis='both' to change both at once\n",
    "plt.xlabel('')\n",
    "plt.ylabel('PA PM2.5 (ug m-3)',fontsize=14, labelpad=10)\n",
    "plt.title('Inversion Effect on PM2.5 at Ohana', size=15, pad=5)\n",
    "\n",
    "#Display median onto each box plot\n",
    "v = ax.axes\n",
    "lines = v.get_lines()\n",
    "categories = v.get_xticks()\n",
    "\n",
    "for cat in categories:\n",
    "    # every 4th line at the interval of 6 is median line\n",
    "    # 0 -> p25 1 -> p75 2 -> lower whisker 3 -> upper whisker 4 -> p50 5 -> upper extreme value\n",
    "    y = round(lines[4+cat*6].get_ydata()[0],1) \n",
    "\n",
    "    v.text(\n",
    "        cat, \n",
    "        y, \n",
    "        f'{y}', \n",
    "        ha='center', \n",
    "        va='center', \n",
    "        fontweight='bold', \n",
    "        size=10,\n",
    "        color='white',\n",
    "        bbox=dict(boxstyle='round',facecolor='black',edgecolor='black', pad=0.15))\n",
    "\n",
    "# ax.figure.tight_layout()"
   ]
  },
  {
   "cell_type": "code",
   "execution_count": null,
   "metadata": {
    "jupyter": {
     "source_hidden": true
    }
   },
   "outputs": [],
   "source": [
    "start_date = '2020/07/04'\n",
    "end_date = '2020/08/04'\n",
    "\n",
    "df = df[(df['date'] >= start_date) & (df['date'] <= end_date)]\n",
    "df\n",
    "\n",
    "inversion = df['inversion'].map({0: 'No inversion', 1: 'Inversion'})\n",
    "plt.figure(figsize=(5,8))\n",
    "my_pal = {\"Inversion\": \"purple\", \"No inversion\": \"yellow\"}\n",
    "ax = sns.boxplot(x=inversion, y=df[\"pm25\"],order=['No inversion','Inversion'], linewidth=2.5, palette=my_pal)\n",
    "ax.tick_params(axis='x', which='major', labelsize=14) #Default selection is major\n",
    "ax.tick_params(axis='y', which='major', labelsize=12) #axis='both' to change both at once\n",
    "plt.xlabel('')\n",
    "plt.ylabel('PA PM2.5 (ug m-3)',fontsize=14, labelpad=10)\n",
    "plt.title('Inversion Effect on PM2.5 at Ohana', size=15, pad=5)\n",
    "\n",
    "#Display median onto each box plot\n",
    "v = ax.axes\n",
    "lines = v.get_lines()\n",
    "categories = v.get_xticks()\n",
    "\n",
    "for cat in categories:\n",
    "    # every 4th line at the interval of 6 is median line\n",
    "    # 0 -> p25 1 -> p75 2 -> lower whisker 3 -> upper whisker 4 -> p50 5 -> upper extreme value\n",
    "    y = round(lines[4+cat*6].get_ydata()[0],1) \n",
    "\n",
    "    v.text(\n",
    "        cat, \n",
    "        y, \n",
    "        f'{y}', \n",
    "        ha='center', \n",
    "        va='center', \n",
    "        fontweight='bold', \n",
    "        size=10,\n",
    "        color='white',\n",
    "        bbox=dict(boxstyle='round',facecolor='black',edgecolor='black', pad=0.15))\n",
    "\n",
    "# ax.figure.tight_layout()"
   ]
  }
 ],
 "metadata": {
  "kernelspec": {
   "display_name": "Python 3",
   "language": "python",
   "name": "python3"
  },
  "language_info": {
   "codemirror_mode": {
    "name": "ipython",
    "version": 3
   },
   "file_extension": ".py",
   "mimetype": "text/x-python",
   "name": "python",
   "nbconvert_exporter": "python",
   "pygments_lexer": "ipython3",
   "version": "3.7.6"
  }
 },
 "nbformat": 4,
 "nbformat_minor": 4
}
